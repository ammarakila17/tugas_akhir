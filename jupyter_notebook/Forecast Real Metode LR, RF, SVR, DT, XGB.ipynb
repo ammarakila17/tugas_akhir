{
 "cells": [
  {
   "cell_type": "code",
   "execution_count": 1,
   "metadata": {},
   "outputs": [],
   "source": [
    "import math\n",
    "import numpy as np\n",
    "import pandas as pd\n",
    "from sklearn import preprocessing, svm\n",
    "from sklearn.model_selection import train_test_split\n",
    "from sklearn.metrics import mean_squared_error, mean_absolute_error, r2_score\n",
    "from sklearn.linear_model import LinearRegression\n",
    "import matplotlib.pyplot as plt\n",
    "from matplotlib import style\n",
    "import datetime\n"
   ]
  },
  {
   "cell_type": "code",
   "execution_count": 2,
   "metadata": {},
   "outputs": [],
   "source": [
    "import pickle"
   ]
  },
  {
   "cell_type": "code",
   "execution_count": 3,
   "metadata": {},
   "outputs": [],
   "source": [
    "import seaborn as sns"
   ]
  },
  {
   "cell_type": "code",
   "execution_count": 4,
   "metadata": {},
   "outputs": [],
   "source": [
    "from sklearn.ensemble import RandomForestRegressor"
   ]
  },
  {
   "cell_type": "code",
   "execution_count": 6,
   "metadata": {},
   "outputs": [],
   "source": [
    "from sklearn.tree import DecisionTreeRegressor"
   ]
  },
  {
   "cell_type": "code",
   "execution_count": 5,
   "metadata": {},
   "outputs": [],
   "source": [
    "from xgboost.sklearn import XGBRegressor"
   ]
  },
  {
   "cell_type": "code",
   "execution_count": 32,
   "metadata": {},
   "outputs": [],
   "source": [
    "from sklearn.model_selection import GridSearchCV"
   ]
  },
  {
   "cell_type": "code",
   "execution_count": 1,
   "metadata": {},
   "outputs": [],
   "source": [
    "from sklearn.tree import export_graphviz"
   ]
  },
  {
   "cell_type": "code",
   "execution_count": 106,
   "metadata": {},
   "outputs": [],
   "source": [
    "series = pd.read_excel('LFP 1C.xlsx')\n",
    "data = series"
   ]
  },
  {
   "cell_type": "code",
   "execution_count": 107,
   "metadata": {},
   "outputs": [
    {
     "name": "stdout",
     "output_type": "stream",
     "text": [
      "<class 'pandas.core.frame.DataFrame'>\n",
      "RangeIndex: 600 entries, 0 to 599\n",
      "Data columns (total 2 columns):\n",
      "Cycle       600 non-null int64\n",
      "Capacity    600 non-null float64\n",
      "dtypes: float64(1), int64(1)\n",
      "memory usage: 9.5 KB\n"
     ]
    }
   ],
   "source": [
    "series.info()"
   ]
  },
  {
   "cell_type": "code",
   "execution_count": 108,
   "metadata": {},
   "outputs": [],
   "source": [
    "def generate_supervised(data):\n",
    "    supervised = data.copy()\n",
    "    \n",
    "    #create column for each lag\n",
    "    for i in range(1,6):\n",
    "        col_name = 'lag_' + str(i)\n",
    "        supervised[col_name] = supervised['capacity_diff'].shift(i)\n",
    "    \n",
    "    #drop null values\n",
    "    supervised = supervised.dropna().reset_index(drop=True)\n",
    "    \n",
    "#supervised_df.to_csv('../data/model_df.csv', index=False)\n",
    "    \n",
    "    return supervised"
   ]
  },
  {
   "cell_type": "code",
   "execution_count": 109,
   "metadata": {},
   "outputs": [],
   "source": [
    "data['capacity_diff'] = data['Capacity'].diff()\n",
    "data = data.dropna()"
   ]
  },
  {
   "cell_type": "code",
   "execution_count": 110,
   "metadata": {},
   "outputs": [],
   "source": [
    "model_df = generate_supervised(data)"
   ]
  },
  {
   "cell_type": "code",
   "execution_count": 111,
   "metadata": {},
   "outputs": [],
   "source": [
    "real = pd.read_excel('Data Degradasi 80 Cycle Skenario 2.xlsx')"
   ]
  },
  {
   "cell_type": "code",
   "execution_count": 112,
   "metadata": {},
   "outputs": [],
   "source": [
    "real = real.drop('Cycle', axis = 1)"
   ]
  },
  {
   "cell_type": "code",
   "execution_count": 113,
   "metadata": {},
   "outputs": [],
   "source": [
    "model_df['Real'] = real"
   ]
  },
  {
   "cell_type": "code",
   "execution_count": 114,
   "metadata": {},
   "outputs": [
    {
     "data": {
      "text/html": [
       "<div>\n",
       "<style scoped>\n",
       "    .dataframe tbody tr th:only-of-type {\n",
       "        vertical-align: middle;\n",
       "    }\n",
       "\n",
       "    .dataframe tbody tr th {\n",
       "        vertical-align: top;\n",
       "    }\n",
       "\n",
       "    .dataframe thead th {\n",
       "        text-align: right;\n",
       "    }\n",
       "</style>\n",
       "<table border=\"1\" class=\"dataframe\">\n",
       "  <thead>\n",
       "    <tr style=\"text-align: right;\">\n",
       "      <th></th>\n",
       "      <th>Cycle</th>\n",
       "      <th>Capacity</th>\n",
       "      <th>capacity_diff</th>\n",
       "      <th>lag_1</th>\n",
       "      <th>lag_2</th>\n",
       "      <th>lag_3</th>\n",
       "      <th>lag_4</th>\n",
       "      <th>lag_5</th>\n",
       "      <th>Real</th>\n",
       "    </tr>\n",
       "  </thead>\n",
       "  <tbody>\n",
       "    <tr>\n",
       "      <td>0</td>\n",
       "      <td>7</td>\n",
       "      <td>99.768517</td>\n",
       "      <td>-0.038549</td>\n",
       "      <td>-0.038562</td>\n",
       "      <td>-0.038574</td>\n",
       "      <td>-0.038587</td>\n",
       "      <td>-0.038599</td>\n",
       "      <td>-0.038612</td>\n",
       "      <td>99.917154</td>\n",
       "    </tr>\n",
       "    <tr>\n",
       "      <td>1</td>\n",
       "      <td>8</td>\n",
       "      <td>99.729980</td>\n",
       "      <td>-0.038537</td>\n",
       "      <td>-0.038549</td>\n",
       "      <td>-0.038562</td>\n",
       "      <td>-0.038574</td>\n",
       "      <td>-0.038587</td>\n",
       "      <td>-0.038599</td>\n",
       "      <td>99.849959</td>\n",
       "    </tr>\n",
       "    <tr>\n",
       "      <td>2</td>\n",
       "      <td>9</td>\n",
       "      <td>99.691456</td>\n",
       "      <td>-0.038524</td>\n",
       "      <td>-0.038537</td>\n",
       "      <td>-0.038549</td>\n",
       "      <td>-0.038562</td>\n",
       "      <td>-0.038574</td>\n",
       "      <td>-0.038587</td>\n",
       "      <td>99.759378</td>\n",
       "    </tr>\n",
       "    <tr>\n",
       "      <td>3</td>\n",
       "      <td>10</td>\n",
       "      <td>99.652944</td>\n",
       "      <td>-0.038512</td>\n",
       "      <td>-0.038524</td>\n",
       "      <td>-0.038537</td>\n",
       "      <td>-0.038549</td>\n",
       "      <td>-0.038562</td>\n",
       "      <td>-0.038574</td>\n",
       "      <td>99.736652</td>\n",
       "    </tr>\n",
       "    <tr>\n",
       "      <td>4</td>\n",
       "      <td>11</td>\n",
       "      <td>99.614444</td>\n",
       "      <td>-0.038499</td>\n",
       "      <td>-0.038512</td>\n",
       "      <td>-0.038524</td>\n",
       "      <td>-0.038537</td>\n",
       "      <td>-0.038549</td>\n",
       "      <td>-0.038562</td>\n",
       "      <td>99.685978</td>\n",
       "    </tr>\n",
       "  </tbody>\n",
       "</table>\n",
       "</div>"
      ],
      "text/plain": [
       "   Cycle   Capacity  capacity_diff     lag_1     lag_2     lag_3     lag_4  \\\n",
       "0      7  99.768517      -0.038549 -0.038562 -0.038574 -0.038587 -0.038599   \n",
       "1      8  99.729980      -0.038537 -0.038549 -0.038562 -0.038574 -0.038587   \n",
       "2      9  99.691456      -0.038524 -0.038537 -0.038549 -0.038562 -0.038574   \n",
       "3     10  99.652944      -0.038512 -0.038524 -0.038537 -0.038549 -0.038562   \n",
       "4     11  99.614444      -0.038499 -0.038512 -0.038524 -0.038537 -0.038549   \n",
       "\n",
       "      lag_5       Real  \n",
       "0 -0.038612  99.917154  \n",
       "1 -0.038599  99.849959  \n",
       "2 -0.038587  99.759378  \n",
       "3 -0.038574  99.736652  \n",
       "4 -0.038562  99.685978  "
      ]
     },
     "execution_count": 114,
     "metadata": {},
     "output_type": "execute_result"
    }
   ],
   "source": [
    "model_df.head()"
   ]
  },
  {
   "cell_type": "code",
   "execution_count": 115,
   "metadata": {},
   "outputs": [],
   "source": [
    "model_df = model_df.drop(['Cycle'], axis=1)"
   ]
  },
  {
   "cell_type": "code",
   "execution_count": 116,
   "metadata": {},
   "outputs": [],
   "source": [
    "def train_test_split(data, n_test):\n",
    "\treturn data[:n_test], data[n_test:]"
   ]
  },
  {
   "cell_type": "code",
   "execution_count": 117,
   "metadata": {},
   "outputs": [],
   "source": [
    "train_set, test_set = train_test_split(model_df, 80);"
   ]
  },
  {
   "cell_type": "code",
   "execution_count": 118,
   "metadata": {},
   "outputs": [
    {
     "data": {
      "text/html": [
       "<div>\n",
       "<style scoped>\n",
       "    .dataframe tbody tr th:only-of-type {\n",
       "        vertical-align: middle;\n",
       "    }\n",
       "\n",
       "    .dataframe tbody tr th {\n",
       "        vertical-align: top;\n",
       "    }\n",
       "\n",
       "    .dataframe thead th {\n",
       "        text-align: right;\n",
       "    }\n",
       "</style>\n",
       "<table border=\"1\" class=\"dataframe\">\n",
       "  <thead>\n",
       "    <tr style=\"text-align: right;\">\n",
       "      <th></th>\n",
       "      <th>Capacity</th>\n",
       "      <th>capacity_diff</th>\n",
       "      <th>lag_1</th>\n",
       "      <th>lag_2</th>\n",
       "      <th>lag_3</th>\n",
       "      <th>lag_4</th>\n",
       "      <th>lag_5</th>\n",
       "      <th>Real</th>\n",
       "    </tr>\n",
       "  </thead>\n",
       "  <tbody>\n",
       "    <tr>\n",
       "      <td>75</td>\n",
       "      <td>96.912877</td>\n",
       "      <td>-0.037614</td>\n",
       "      <td>-0.037626</td>\n",
       "      <td>-0.037638</td>\n",
       "      <td>-0.037651</td>\n",
       "      <td>-0.037663</td>\n",
       "      <td>-0.037676</td>\n",
       "      <td>94.810394</td>\n",
       "    </tr>\n",
       "    <tr>\n",
       "      <td>76</td>\n",
       "      <td>96.875276</td>\n",
       "      <td>-0.037601</td>\n",
       "      <td>-0.037614</td>\n",
       "      <td>-0.037626</td>\n",
       "      <td>-0.037638</td>\n",
       "      <td>-0.037651</td>\n",
       "      <td>-0.037663</td>\n",
       "      <td>94.733961</td>\n",
       "    </tr>\n",
       "    <tr>\n",
       "      <td>77</td>\n",
       "      <td>96.837688</td>\n",
       "      <td>-0.037589</td>\n",
       "      <td>-0.037601</td>\n",
       "      <td>-0.037614</td>\n",
       "      <td>-0.037626</td>\n",
       "      <td>-0.037638</td>\n",
       "      <td>-0.037651</td>\n",
       "      <td>94.669145</td>\n",
       "    </tr>\n",
       "    <tr>\n",
       "      <td>78</td>\n",
       "      <td>96.800112</td>\n",
       "      <td>-0.037576</td>\n",
       "      <td>-0.037589</td>\n",
       "      <td>-0.037601</td>\n",
       "      <td>-0.037614</td>\n",
       "      <td>-0.037626</td>\n",
       "      <td>-0.037638</td>\n",
       "      <td>94.609833</td>\n",
       "    </tr>\n",
       "    <tr>\n",
       "      <td>79</td>\n",
       "      <td>96.762548</td>\n",
       "      <td>-0.037564</td>\n",
       "      <td>-0.037576</td>\n",
       "      <td>-0.037589</td>\n",
       "      <td>-0.037601</td>\n",
       "      <td>-0.037614</td>\n",
       "      <td>-0.037626</td>\n",
       "      <td>94.543819</td>\n",
       "    </tr>\n",
       "    <tr>\n",
       "      <td>80</td>\n",
       "      <td>96.724997</td>\n",
       "      <td>-0.037551</td>\n",
       "      <td>-0.037564</td>\n",
       "      <td>-0.037576</td>\n",
       "      <td>-0.037589</td>\n",
       "      <td>-0.037601</td>\n",
       "      <td>-0.037614</td>\n",
       "      <td>NaN</td>\n",
       "    </tr>\n",
       "    <tr>\n",
       "      <td>81</td>\n",
       "      <td>96.687458</td>\n",
       "      <td>-0.037539</td>\n",
       "      <td>-0.037551</td>\n",
       "      <td>-0.037564</td>\n",
       "      <td>-0.037576</td>\n",
       "      <td>-0.037589</td>\n",
       "      <td>-0.037601</td>\n",
       "      <td>NaN</td>\n",
       "    </tr>\n",
       "    <tr>\n",
       "      <td>82</td>\n",
       "      <td>96.649932</td>\n",
       "      <td>-0.037526</td>\n",
       "      <td>-0.037539</td>\n",
       "      <td>-0.037551</td>\n",
       "      <td>-0.037564</td>\n",
       "      <td>-0.037576</td>\n",
       "      <td>-0.037589</td>\n",
       "      <td>NaN</td>\n",
       "    </tr>\n",
       "    <tr>\n",
       "      <td>83</td>\n",
       "      <td>96.612418</td>\n",
       "      <td>-0.037514</td>\n",
       "      <td>-0.037526</td>\n",
       "      <td>-0.037539</td>\n",
       "      <td>-0.037551</td>\n",
       "      <td>-0.037564</td>\n",
       "      <td>-0.037576</td>\n",
       "      <td>NaN</td>\n",
       "    </tr>\n",
       "    <tr>\n",
       "      <td>84</td>\n",
       "      <td>96.574917</td>\n",
       "      <td>-0.037501</td>\n",
       "      <td>-0.037514</td>\n",
       "      <td>-0.037526</td>\n",
       "      <td>-0.037539</td>\n",
       "      <td>-0.037551</td>\n",
       "      <td>-0.037564</td>\n",
       "      <td>NaN</td>\n",
       "    </tr>\n",
       "  </tbody>\n",
       "</table>\n",
       "</div>"
      ],
      "text/plain": [
       "     Capacity  capacity_diff     lag_1     lag_2     lag_3     lag_4  \\\n",
       "75  96.912877      -0.037614 -0.037626 -0.037638 -0.037651 -0.037663   \n",
       "76  96.875276      -0.037601 -0.037614 -0.037626 -0.037638 -0.037651   \n",
       "77  96.837688      -0.037589 -0.037601 -0.037614 -0.037626 -0.037638   \n",
       "78  96.800112      -0.037576 -0.037589 -0.037601 -0.037614 -0.037626   \n",
       "79  96.762548      -0.037564 -0.037576 -0.037589 -0.037601 -0.037614   \n",
       "80  96.724997      -0.037551 -0.037564 -0.037576 -0.037589 -0.037601   \n",
       "81  96.687458      -0.037539 -0.037551 -0.037564 -0.037576 -0.037589   \n",
       "82  96.649932      -0.037526 -0.037539 -0.037551 -0.037564 -0.037576   \n",
       "83  96.612418      -0.037514 -0.037526 -0.037539 -0.037551 -0.037564   \n",
       "84  96.574917      -0.037501 -0.037514 -0.037526 -0.037539 -0.037551   \n",
       "\n",
       "       lag_5       Real  \n",
       "75 -0.037676  94.810394  \n",
       "76 -0.037663  94.733961  \n",
       "77 -0.037651  94.669145  \n",
       "78 -0.037638  94.609833  \n",
       "79 -0.037626  94.543819  \n",
       "80 -0.037614        NaN  \n",
       "81 -0.037601        NaN  \n",
       "82 -0.037589        NaN  \n",
       "83 -0.037576        NaN  \n",
       "84 -0.037564        NaN  "
      ]
     },
     "execution_count": 118,
     "metadata": {},
     "output_type": "execute_result"
    }
   ],
   "source": [
    "model_df[75:85]"
   ]
  },
  {
   "cell_type": "code",
   "execution_count": 119,
   "metadata": {},
   "outputs": [],
   "source": [
    "train_set = train_set.values.reshape(train_set.shape[0], train_set.shape[1])\n",
    "test_set = test_set.values.reshape(test_set.shape[0], test_set.shape[1])\n",
    "\n",
    "\n",
    "\n",
    "X_train, y_train = train_set[:, :-1], train_set[:, -1:]\n",
    "X_test, y_test = test_set[:, :-1], test_set[:, -1:]"
   ]
  },
  {
   "cell_type": "code",
   "execution_count": 57,
   "metadata": {},
   "outputs": [
    {
     "data": {
      "text/plain": [
       "(514, 1)"
      ]
     },
     "execution_count": 57,
     "metadata": {},
     "output_type": "execute_result"
    }
   ],
   "source": [
    "y_test.shape"
   ]
  },
  {
   "cell_type": "code",
   "execution_count": null,
   "metadata": {},
   "outputs": [],
   "source": []
  },
  {
   "cell_type": "code",
   "execution_count": null,
   "metadata": {},
   "outputs": [],
   "source": []
  },
  {
   "cell_type": "code",
   "execution_count": 120,
   "metadata": {},
   "outputs": [],
   "source": [
    "mod = XGBRegressor( n_estimators=100, \n",
    "                    learning_rate=0.2, \n",
    "                    objective='reg:squarederror')\n",
    "mod.fit(X_train, y_train)\n",
    "forecast_set = mod.predict(X_test)"
   ]
  },
  {
   "cell_type": "code",
   "execution_count": 121,
   "metadata": {},
   "outputs": [],
   "source": [
    "forecast = pd.DataFrame(forecast_set, columns = ['Forecast'])"
   ]
  },
  {
   "cell_type": "code",
   "execution_count": 122,
   "metadata": {},
   "outputs": [],
   "source": [
    "alldata = pd.concat([model_df['Real'][:80], forecast], ignore_index=True)"
   ]
  },
  {
   "cell_type": "code",
   "execution_count": 123,
   "metadata": {
    "scrolled": true
   },
   "outputs": [
    {
     "data": {
      "text/plain": [
       "[Text(0, 0.5, 'Kapasitas'),\n",
       " Text(0.5, 0, 'Siklus'),\n",
       " Text(0.5, 1.0, 'Prediksi Kapasitas Degradasi Baterai dengan Model XGBoost Regressor ')]"
      ]
     },
     "execution_count": 123,
     "metadata": {},
     "output_type": "execute_result"
    },
    {
     "data": {
      "image/png": "[encoded data removed]",
      "text/plain": [
       "<Figure size 576x360 with 1 Axes>"
      ]
     },
     "metadata": {
      "needs_background": "light"
     },
     "output_type": "display_data"
    }
   ],
   "source": [
    "fig, ax = plt.subplots(figsize=(8,5))\n",
    "sns.lineplot(alldata.index[:80], alldata[0][:80], data=alldata, ax=ax, \n",
    "             label='Original', color='mediumblue')\n",
    "sns.lineplot(alldata.index[80:], alldata['Forecast'][80:], data=alldata, ax=ax, \n",
    "             label='Forecast', color='red')\n",
    "\n",
    "ax.set(xlabel = \"Siklus\",\n",
    "       ylabel = \"Kapasitas\",\n",
    "       title = \"Prediksi Kapasitas Degradasi Baterai dengan Model XGBoost Regressor \")\n",
    "\n"
   ]
  },
  {
   "cell_type": "code",
   "execution_count": 124,
   "metadata": {},
   "outputs": [],
   "source": [
    "jumlah_cycle = 80\n",
    "mse = mean_squared_error(forecast, series['Capacity'][jumlah_cycle:(jumlah_cycle+forecast_set.shape[0])])\n",
    "rmse = np.sqrt(mse)\n",
    "mae = mean_absolute_error(forecast, series['Capacity'][jumlah_cycle:(jumlah_cycle+forecast_set.shape[0])])\n",
    "r2 = r2_score(forecast, series['Capacity'][jumlah_cycle:(jumlah_cycle+forecast_set.shape[0])])"
   ]
  },
  {
   "cell_type": "code",
   "execution_count": 125,
   "metadata": {},
   "outputs": [
    {
     "data": {
      "text/plain": [
       "(8.429438018132526, 7.008910250319095, 0.0)"
      ]
     },
     "execution_count": 125,
     "metadata": {},
     "output_type": "execute_result"
    }
   ],
   "source": [
    "rmse, mae, r2"
   ]
  },
  {
   "cell_type": "code",
   "execution_count": 58,
   "metadata": {},
   "outputs": [
    {
     "data": {
      "text/plain": [
       "(8.429438018132526, 7.008910250319095, 0.0)"
      ]
     },
     "execution_count": 58,
     "metadata": {},
     "output_type": "execute_result"
    }
   ],
   "source": [
    "(10.698339791730206, 9.399841813659599, -491578223995.44293)\n",
    "(8.429438018132526, 7.008910250319095, 0.0)\n",
    "(11.75381220848739, 10.585587052917411, -263715003343.79022)"
   ]
  },
  {
   "cell_type": "code",
   "execution_count": 21,
   "metadata": {},
   "outputs": [
    {
     "data": {
      "text/plain": [
       "<matplotlib.axes._subplots.AxesSubplot at 0x1c0e432b748>"
      ]
     },
     "execution_count": 21,
     "metadata": {},
     "output_type": "execute_result"
    },
    {
     "data": {
      "image/png": "[encoded data removed]",
      "text/plain": [
       "<Figure size 432x288 with 1 Axes>"
      ]
     },
     "metadata": {
      "needs_background": "light"
     },
     "output_type": "display_data"
    }
   ],
   "source": [
    "forecast.plot()"
   ]
  },
  {
   "cell_type": "code",
   "execution_count": 252,
   "metadata": {},
   "outputs": [
    {
     "data": {
      "text/plain": [
       "<matplotlib.axes._subplots.AxesSubplot at 0x27a65ce6288>"
      ]
     },
     "execution_count": 252,
     "metadata": {},
     "output_type": "execute_result"
    },
    {
     "data": {
      "image/png": "[encoded data removed]",
      "text/plain": [
       "<Figure size 432x288 with 1 Axes>"
      ]
     },
     "metadata": {
      "needs_background": "light"
     },
     "output_type": "display_data"
    }
   ],
   "source": [
    "alldata.plot()"
   ]
  },
  {
   "cell_type": "code",
   "execution_count": null,
   "metadata": {},
   "outputs": [],
   "source": []
  },
  {
   "cell_type": "code",
   "execution_count": null,
   "metadata": {},
   "outputs": [],
   "source": []
  },
  {
   "cell_type": "code",
   "execution_count": null,
   "metadata": {},
   "outputs": [],
   "source": []
  },
  {
   "cell_type": "code",
   "execution_count": 22,
   "metadata": {},
   "outputs": [],
   "source": [
    "dt = DecisionTreeRegressor(max_depth=4)"
   ]
  },
  {
   "cell_type": "code",
   "execution_count": 23,
   "metadata": {},
   "outputs": [
    {
     "data": {
      "text/plain": [
       "DecisionTreeRegressor(criterion='mse', max_depth=4, max_features=None,\n",
       "                      max_leaf_nodes=None, min_impurity_decrease=0.0,\n",
       "                      min_impurity_split=None, min_samples_leaf=1,\n",
       "                      min_samples_split=2, min_weight_fraction_leaf=0.0,\n",
       "                      presort=False, random_state=None, splitter='best')"
      ]
     },
     "execution_count": 23,
     "metadata": {},
     "output_type": "execute_result"
    }
   ],
   "source": [
    "dt.fit(X_train,y_train)"
   ]
  },
  {
   "cell_type": "code",
   "execution_count": 24,
   "metadata": {},
   "outputs": [],
   "source": [
    "forecast_set = dt.predict(X_test)"
   ]
  },
  {
   "cell_type": "code",
   "execution_count": 111,
   "metadata": {},
   "outputs": [
    {
     "data": {
      "text/plain": [
       "(514,)"
      ]
     },
     "execution_count": 111,
     "metadata": {},
     "output_type": "execute_result"
    }
   ],
   "source": [
    "forecast_set.shape"
   ]
  },
  {
   "cell_type": "code",
   "execution_count": 25,
   "metadata": {},
   "outputs": [],
   "source": [
    "forecast = pd.DataFrame(forecast_set, columns = ['Forecast'])"
   ]
  },
  {
   "cell_type": "code",
   "execution_count": 26,
   "metadata": {},
   "outputs": [],
   "source": [
    "alldata = pd.concat([model_df['Real'][:80], forecast], ignore_index=True)"
   ]
  },
  {
   "cell_type": "code",
   "execution_count": 27,
   "metadata": {},
   "outputs": [
    {
     "data": {
      "text/plain": [
       "[Text(0, 0.5, 'Kapasitas'),\n",
       " Text(0.5, 0, 'Siklus'),\n",
       " Text(0.5, 1.0, 'Prediksi Kapasitas Degradasi Baterai dengan Model DecisionTreeRegressor ')]"
      ]
     },
     "execution_count": 27,
     "metadata": {},
     "output_type": "execute_result"
    },
    {
     "data": {
      "image/png": "[encoded data removed]",
      "text/plain": [
       "<Figure size 576x360 with 1 Axes>"
      ]
     },
     "metadata": {
      "needs_background": "light"
     },
     "output_type": "display_data"
    }
   ],
   "source": [
    "fig, ax = plt.subplots(figsize=(8,5))\n",
    "sns.lineplot(alldata.index[:80], alldata[0][:80], data=alldata, ax=ax, \n",
    "             label='Original', color='mediumblue')\n",
    "sns.lineplot(alldata.index[80:], alldata['Forecast'][80:], data=alldata, ax=ax, \n",
    "             label='Forecast', color='red')\n",
    "\n",
    "ax.set(xlabel = \"Siklus\",\n",
    "       ylabel = \"Kapasitas\",\n",
    "       title = \"Prediksi Kapasitas Degradasi Baterai dengan Model DecisionTreeRegressor \")"
   ]
  },
  {
   "cell_type": "code",
   "execution_count": 31,
   "metadata": {},
   "outputs": [],
   "source": [
    "export_graphviz(dt, out_file = 'dtforecasting.dot')"
   ]
  },
  {
   "cell_type": "code",
   "execution_count": 114,
   "metadata": {},
   "outputs": [
    {
     "data": {
      "text/plain": [
       "<matplotlib.axes._subplots.AxesSubplot at 0x27707e7d888>"
      ]
     },
     "execution_count": 114,
     "metadata": {},
     "output_type": "execute_result"
    },
    {
     "data": {
      "image/png": "[encoded data removed]",
      "text/plain": [
       "<Figure size 432x288 with 1 Axes>"
      ]
     },
     "metadata": {
      "needs_background": "light"
     },
     "output_type": "display_data"
    }
   ],
   "source": [
    "alldata.plot()"
   ]
  },
  {
   "cell_type": "code",
   "execution_count": null,
   "metadata": {},
   "outputs": [],
   "source": []
  },
  {
   "cell_type": "code",
   "execution_count": null,
   "metadata": {},
   "outputs": [],
   "source": []
  },
  {
   "cell_type": "code",
   "execution_count": null,
   "metadata": {},
   "outputs": [],
   "source": []
  },
  {
   "cell_type": "code",
   "execution_count": 261,
   "metadata": {},
   "outputs": [],
   "source": [
    "regm = svm.SVR()"
   ]
  },
  {
   "cell_type": "code",
   "execution_count": 262,
   "metadata": {},
   "outputs": [
    {
     "name": "stderr",
     "output_type": "stream",
     "text": [
      "C:\\Users\\User\\Anaconda3\\lib\\site-packages\\sklearn\\svm\\base.py:193: FutureWarning: The default value of gamma will change from 'auto' to 'scale' in version 0.22 to account better for unscaled features. Set gamma explicitly to 'auto' or 'scale' to avoid this warning.\n",
      "  \"avoid this warning.\", FutureWarning)\n"
     ]
    },
    {
     "data": {
      "text/plain": [
       "SVR(C=1.0, cache_size=200, coef0=0.0, degree=3, epsilon=0.1,\n",
       "    gamma='auto_deprecated', kernel='rbf', max_iter=-1, shrinking=True,\n",
       "    tol=0.001, verbose=False)"
      ]
     },
     "execution_count": 262,
     "metadata": {},
     "output_type": "execute_result"
    }
   ],
   "source": [
    "regm.fit(X_train, y_train)"
   ]
  },
  {
   "cell_type": "code",
   "execution_count": 263,
   "metadata": {},
   "outputs": [],
   "source": [
    "forecast_set = regm.predict(X_lately)"
   ]
  },
  {
   "cell_type": "code",
   "execution_count": 264,
   "metadata": {},
   "outputs": [
    {
     "data": {
      "text/plain": [
       "(414,)"
      ]
     },
     "execution_count": 264,
     "metadata": {},
     "output_type": "execute_result"
    }
   ],
   "source": [
    "forecast_set.shape"
   ]
  },
  {
   "cell_type": "code",
   "execution_count": 266,
   "metadata": {},
   "outputs": [],
   "source": [
    "forecast = pd.DataFrame(forecast_set, columns = ['Forecast'])"
   ]
  },
  {
   "cell_type": "code",
   "execution_count": 267,
   "metadata": {},
   "outputs": [],
   "source": [
    "alldata = pd.concat([series['Capacity'], forecast], ignore_index=True)"
   ]
  },
  {
   "cell_type": "code",
   "execution_count": 268,
   "metadata": {},
   "outputs": [
    {
     "data": {
      "text/plain": [
       "<matplotlib.axes._subplots.AxesSubplot at 0x27a65d2b108>"
      ]
     },
     "execution_count": 268,
     "metadata": {},
     "output_type": "execute_result"
    },
    {
     "data": {
      "image/png": "[encoded data removed]",
      "text/plain": [
       "<Figure size 432x288 with 1 Axes>"
      ]
     },
     "metadata": {
      "needs_background": "light"
     },
     "output_type": "display_data"
    }
   ],
   "source": [
    "alldata.plot()"
   ]
  },
  {
   "cell_type": "code",
   "execution_count": null,
   "metadata": {},
   "outputs": [],
   "source": []
  },
  {
   "cell_type": "code",
   "execution_count": null,
   "metadata": {},
   "outputs": [],
   "source": []
  },
  {
   "cell_type": "code",
   "execution_count": null,
   "metadata": {},
   "outputs": [],
   "source": []
  },
  {
   "cell_type": "code",
   "execution_count": 96,
   "metadata": {},
   "outputs": [
    {
     "name": "stderr",
     "output_type": "stream",
     "text": [
      "C:\\Users\\User\\Anaconda3\\lib\\site-packages\\sklearn\\model_selection\\_search.py:715: DataConversionWarning: A column-vector y was passed when a 1d array was expected. Please change the shape of y to (n_samples,), for example using ravel().\n",
      "  self.best_estimator_.fit(X, y, **fit_params)\n"
     ]
    }
   ],
   "source": [
    "gsc = GridSearchCV(\n",
    "        estimator=RandomForestRegressor(),\n",
    "        param_grid={\n",
    "            'max_depth': range(3,7),\n",
    "            'n_estimators': (10, 50, 100, 1000),\n",
    "        },\n",
    "        cv=5, scoring='neg_mean_squared_error', verbose=0, n_jobs=-1)\n",
    "    \n",
    "grid_result = gsc.fit(X_train, y_train)\n",
    "best_params = grid_result.best_params_"
   ]
  },
  {
   "cell_type": "code",
   "execution_count": 97,
   "metadata": {},
   "outputs": [],
   "source": [
    "mod = RandomForestRegressor(max_depth=best_params[\"max_depth\"], \n",
    "                            n_estimators=best_params[\"n_estimators\"],random_state=False, verbose=False)"
   ]
  },
  {
   "cell_type": "code",
   "execution_count": 98,
   "metadata": {},
   "outputs": [
    {
     "name": "stderr",
     "output_type": "stream",
     "text": [
      "C:\\Users\\User\\Anaconda3\\lib\\site-packages\\ipykernel_launcher.py:1: DataConversionWarning: A column-vector y was passed when a 1d array was expected. Please change the shape of y to (n_samples,), for example using ravel().\n",
      "  \"\"\"Entry point for launching an IPython kernel.\n"
     ]
    },
    {
     "data": {
      "text/plain": [
       "RandomForestRegressor(bootstrap=True, criterion='mse', max_depth=6,\n",
       "                      max_features='auto', max_leaf_nodes=None,\n",
       "                      min_impurity_decrease=0.0, min_impurity_split=None,\n",
       "                      min_samples_leaf=1, min_samples_split=2,\n",
       "                      min_weight_fraction_leaf=0.0, n_estimators=10,\n",
       "                      n_jobs=None, oob_score=False, random_state=False,\n",
       "                      verbose=False, warm_start=False)"
      ]
     },
     "execution_count": 98,
     "metadata": {},
     "output_type": "execute_result"
    }
   ],
   "source": [
    "mod.fit(X_train, y_train)"
   ]
  },
  {
   "cell_type": "code",
   "execution_count": 99,
   "metadata": {},
   "outputs": [],
   "source": [
    "forecast_set = mod.predict(X_test)"
   ]
  },
  {
   "cell_type": "code",
   "execution_count": 100,
   "metadata": {},
   "outputs": [
    {
     "data": {
      "text/plain": [
       "(514,)"
      ]
     },
     "execution_count": 100,
     "metadata": {},
     "output_type": "execute_result"
    }
   ],
   "source": [
    "forecast_set.shape"
   ]
  },
  {
   "cell_type": "code",
   "execution_count": 101,
   "metadata": {},
   "outputs": [],
   "source": [
    "forecast = pd.DataFrame(forecast_set, columns = ['Forecast'])"
   ]
  },
  {
   "cell_type": "code",
   "execution_count": 102,
   "metadata": {},
   "outputs": [],
   "source": [
    "alldata = pd.concat([model_df['Real'][:80], forecast], ignore_index=True)"
   ]
  },
  {
   "cell_type": "code",
   "execution_count": 103,
   "metadata": {},
   "outputs": [
    {
     "data": {
      "text/plain": [
       "[Text(0, 0.5, 'Kapasitas'),\n",
       " Text(0.5, 0, 'Siklus'),\n",
       " Text(0.5, 1.0, 'Prediksi Kapasitas Degradasi Baterai dengan Model RandomForestRegressor ')]"
      ]
     },
     "execution_count": 103,
     "metadata": {},
     "output_type": "execute_result"
    },
    {
     "data": {
      "image/png": "[encoded data removed]",
      "text/plain": [
       "<Figure size 576x360 with 1 Axes>"
      ]
     },
     "metadata": {
      "needs_background": "light"
     },
     "output_type": "display_data"
    }
   ],
   "source": [
    "fig, ax = plt.subplots(figsize=(8,5))\n",
    "sns.lineplot(alldata.index[:80], alldata[0][:80], data=alldata, ax=ax, \n",
    "             label='Original', color='mediumblue')\n",
    "sns.lineplot(alldata.index[80:], alldata['Forecast'][80:], data=alldata, ax=ax, \n",
    "             label='Forecast', color='red')\n",
    "\n",
    "ax.set(xlabel = \"Siklus\",\n",
    "       ylabel = \"Kapasitas\",\n",
    "       title = \"Prediksi Kapasitas Degradasi Baterai dengan Model RandomForestRegressor \")"
   ]
  },
  {
   "cell_type": "code",
   "execution_count": 104,
   "metadata": {},
   "outputs": [],
   "source": [
    "jumlah_cycle = 80\n",
    "mse = mean_squared_error(forecast, series['Capacity'][jumlah_cycle:(jumlah_cycle+forecast_set.shape[0])])\n",
    "rmse = np.sqrt(mse)\n",
    "mae = mean_absolute_error(forecast, series['Capacity'][jumlah_cycle:(jumlah_cycle+forecast_set.shape[0])])\n",
    "r2 = r2_score(forecast, series['Capacity'][jumlah_cycle:(jumlah_cycle+forecast_set.shape[0])])"
   ]
  },
  {
   "cell_type": "code",
   "execution_count": 105,
   "metadata": {},
   "outputs": [
    {
     "data": {
      "text/plain": [
       "(11.75826124100282, 10.59052686291738, -6.846140552186762e+29)"
      ]
     },
     "execution_count": 105,
     "metadata": {},
     "output_type": "execute_result"
    }
   ],
   "source": [
    "rmse, mae, r2"
   ]
  },
  {
   "cell_type": "code",
   "execution_count": null,
   "metadata": {},
   "outputs": [],
   "source": [
    "(10.699332045201654, 9.400971121963117, -1.4171406024713586e+29)\n",
    "(8.462740979175615, 7.040259543234301, -3.546350840666094e+29)\n",
    "(11.75826124100282, 10.59052686291738, -6.846140552186762e+29)"
   ]
  },
  {
   "cell_type": "code",
   "execution_count": null,
   "metadata": {},
   "outputs": [],
   "source": []
  },
  {
   "cell_type": "code",
   "execution_count": null,
   "metadata": {},
   "outputs": [],
   "source": []
  },
  {
   "cell_type": "code",
   "execution_count": 278,
   "metadata": {},
   "outputs": [],
   "source": [
    "clf = LinearRegression(n_jobs=-1)"
   ]
  },
  {
   "cell_type": "code",
   "execution_count": 279,
   "metadata": {},
   "outputs": [
    {
     "data": {
      "text/plain": [
       "LinearRegression(copy_X=True, fit_intercept=True, n_jobs=-1, normalize=False)"
      ]
     },
     "execution_count": 279,
     "metadata": {},
     "output_type": "execute_result"
    }
   ],
   "source": [
    "clf.fit(X_train, y_train)"
   ]
  },
  {
   "cell_type": "code",
   "execution_count": 280,
   "metadata": {},
   "outputs": [],
   "source": [
    "confidence = clf.score(X_test, y_test)"
   ]
  },
  {
   "cell_type": "code",
   "execution_count": 281,
   "metadata": {},
   "outputs": [
    {
     "data": {
      "text/plain": [
       "0.998974040309377"
      ]
     },
     "execution_count": 281,
     "metadata": {},
     "output_type": "execute_result"
    }
   ],
   "source": [
    "confidence"
   ]
  },
  {
   "cell_type": "code",
   "execution_count": 282,
   "metadata": {},
   "outputs": [],
   "source": [
    "forecast_set = clf.predict(X_lately)"
   ]
  },
  {
   "cell_type": "code",
   "execution_count": 283,
   "metadata": {},
   "outputs": [
    {
     "data": {
      "text/plain": [
       "(414,)"
      ]
     },
     "execution_count": 283,
     "metadata": {},
     "output_type": "execute_result"
    }
   ],
   "source": [
    "forecast_set.shape"
   ]
  },
  {
   "cell_type": "code",
   "execution_count": 284,
   "metadata": {},
   "outputs": [
    {
     "data": {
      "text/plain": [
       "array([97.90240452, 97.90128139, 97.90071134, 97.90123759, 97.89963055,\n",
       "       97.89994255, 97.89875414, 97.89865804, 97.89940554, 97.89856051,\n",
       "       97.89650884, 97.89742674, 97.89694993, 97.89732693, 97.89681485,\n",
       "       97.89669027, 97.89624331, 97.89565083, 97.8960138 , 97.89545816,\n",
       "       97.89537939, 97.89397348, 97.89226355, 97.89200314, 97.8913674 ,\n",
       "       97.8902087 , 97.88992478, 97.88738481, 97.88784181, 97.88693284,\n",
       "       97.88752657, 97.88680033, 97.88630574, 97.88562667, 97.88562914,\n",
       "       97.88493385, 97.88500729, 97.88517406, 97.88609732, 97.88471388,\n",
       "       97.88481629, 97.88329449, 97.88255972, 97.8825427 , 97.88244834,\n",
       "       97.88080411, 97.88073154, 97.87967318, 97.87787208, 97.87724381,\n",
       "       97.87693805, 97.87600929, 97.8759649 , 97.87450289, 97.87476513,\n",
       "       97.87352176, 97.87315445, 97.87395504, 97.87372058, 97.87175287,\n",
       "       97.87200789, 97.87133368, 97.87141358, 97.87018737, 97.87029599,\n",
       "       97.86866447, 97.86897539, 97.86861597, 97.86852562, 97.86814911,\n",
       "       97.86776719, 97.86760246, 97.86705831, 97.86651775, 97.86601733,\n",
       "       97.86573304, 97.86567791, 97.86324694, 97.86348037, 97.86107484,\n",
       "       97.8622724 , 97.86023418, 97.86040129, 97.85985001, 97.85964229,\n",
       "       97.85879946, 97.85832034, 97.85851039, 97.8590879 , 97.85781837,\n",
       "       97.85882673, 97.8574883 , 97.85709519, 97.85629865, 97.85668254,\n",
       "       97.85635377, 97.85627131, 97.85513237, 97.85471088, 97.85299119,\n",
       "       97.85360255, 97.85387826, 97.85405238, 97.85188327, 97.85064093,\n",
       "       97.8498122 , 97.84986829, 97.8507198 , 97.8507343 , 97.85057907,\n",
       "       97.84884593, 97.84862364, 97.84792896, 97.84758486, 97.84802841,\n",
       "       97.84645061, 97.84693829, 97.84560671, 97.84487683, 97.84534713,\n",
       "       97.84334223, 97.84465886, 97.84390528, 97.84362296, 97.84353991,\n",
       "       97.84172847, 97.84182215, 97.84125123, 97.84077583, 97.8414875 ,\n",
       "       97.83943586, 97.83982188, 97.83913251, 97.83931192, 97.83968875,\n",
       "       97.83939212, 97.83952437, 97.83695848, 97.83742772, 97.83526187,\n",
       "       97.83672114, 97.83463655, 97.83433788, 97.83423242, 97.8321256 ,\n",
       "       97.83167342, 97.83161557, 97.83121371, 97.83086093, 97.82815248,\n",
       "       97.82961516, 97.82800251, 97.82848664, 97.82805783, 97.82803286,\n",
       "       97.82732365, 97.82594313, 97.82478114, 97.8253747 , 97.8243161 ,\n",
       "       97.82473001, 97.82275429, 97.82063217, 97.81890932, 97.81814784,\n",
       "       97.81923197, 97.81890116, 97.81867659, 97.81731566, 97.81549013,\n",
       "       97.8158045 , 97.81442792, 97.81599162, 97.81571752, 97.8150508 ,\n",
       "       97.81354595, 97.81212263, 97.81221022, 97.81176206, 97.81051835,\n",
       "       97.81110754, 97.81051305, 97.81008383, 97.80843301, 97.80753923,\n",
       "       97.80799348, 97.80761954, 97.80811261, 97.80865928, 97.80644877,\n",
       "       97.80658168, 97.80543241, 97.80587559, 97.80561361, 97.80499097,\n",
       "       97.80460331, 97.80367448, 97.80233268, 97.80327781, 97.80184677,\n",
       "       97.80162459, 97.80012193, 97.8000055 , 97.79994711, 97.80018032,\n",
       "       97.79939992, 97.79872206, 97.79686501, 97.79609848, 97.79467482,\n",
       "       97.79572411, 97.79493863, 97.79381371, 97.7926484 , 97.79150264,\n",
       "       97.7913567 , 97.79233743, 97.79117617, 97.79042651, 97.79009966,\n",
       "       97.78990673, 97.78937227, 97.7891572 , 97.7889919 , 97.78885532,\n",
       "       97.78861736, 97.78745191, 97.78618152, 97.78628212, 97.78674234,\n",
       "       97.78761163, 97.78630812, 97.78575715, 97.78608522, 97.78405581,\n",
       "       97.78321143, 97.78393531, 97.78306245, 97.78398185, 97.7828232 ,\n",
       "       97.78288999, 97.78152805, 97.78127339, 97.78012845, 97.78067892,\n",
       "       97.77866232, 97.77979222, 97.77902922, 97.77811587, 97.77667699,\n",
       "       97.77692034, 97.77508364, 97.77484039, 97.77444654, 97.77405052,\n",
       "       97.77393745, 97.7725128 , 97.77142551, 97.77073188, 97.76953602,\n",
       "       97.77019031, 97.77009978, 97.77014207, 97.76824054, 97.7684515 ,\n",
       "       97.76844634, 97.76775863, 97.76705468, 97.76686116, 97.76541122,\n",
       "       97.7656926 , 97.76422531, 97.76425882, 97.76284353, 97.76327611,\n",
       "       97.76271405, 97.76239554, 97.76181692, 97.76202336, 97.76026323,\n",
       "       97.76137204, 97.75940533, 97.76135476, 97.76057975, 97.76011009,\n",
       "       97.75868567, 97.75869755, 97.75801667, 97.75869005, 97.75816412,\n",
       "       97.75774558, 97.75684958, 97.75687595, 97.75474699, 97.75515831,\n",
       "       97.75425273, 97.7539334 , 97.75408617, 97.7529011 , 97.75276645,\n",
       "       97.75291425, 97.75194622, 97.75163705, 97.75019356, 97.74922718,\n",
       "       97.74911383, 97.74898345, 97.74912943, 97.74763686, 97.74704587,\n",
       "       97.74640924, 97.74559914, 97.74462972, 97.74554745, 97.74408826,\n",
       "       97.74392505, 97.74172559, 97.74163628, 97.74081372, 97.74162268,\n",
       "       97.74143971, 97.74013319, 97.73986386, 97.73991575, 97.74006907,\n",
       "       97.74058389, 97.73905774, 97.73965063, 97.73895217, 97.73771099,\n",
       "       97.7373991 , 97.73653621, 97.73735368, 97.73662478, 97.73636609,\n",
       "       97.73455588, 97.73469387, 97.73366544, 97.73421625, 97.73406782,\n",
       "       97.73333406, 97.73349499, 97.73333895, 97.73298668, 97.73202399,\n",
       "       97.73045291, 97.73150035, 97.73030316, 97.7314428 , 97.7297639 ,\n",
       "       97.72849201, 97.72857032, 97.72541423, 97.72734936, 97.72615752,\n",
       "       97.72636128, 97.72519415, 97.72344051, 97.72346641, 97.72313199,\n",
       "       97.72376136, 97.72396403, 97.72355745, 97.72239821, 97.72031017,\n",
       "       97.72129738, 97.71995282, 97.72012477, 97.71960867, 97.71957208,\n",
       "       97.7185375 , 97.71818786, 97.71857356, 97.71788426, 97.71767419,\n",
       "       97.71722417, 97.71730468, 97.71622001, 97.71588531, 97.7157741 ,\n",
       "       97.71550075, 97.71521272, 97.71448004, 97.71510172, 97.71424791,\n",
       "       97.71281007, 97.71299333, 97.71189075, 97.71287174, 97.71266064,\n",
       "       97.71081315, 97.70989308, 97.7094543 , 97.7099402 , 97.71054064,\n",
       "       97.70929626, 97.70746597, 97.7069403 , 97.70486715, 97.70457939,\n",
       "       97.7045861 , 97.70398305, 97.7042211 , 97.70309874, 97.70153863,\n",
       "       97.7011831 , 97.69930187, 97.70120204, 97.70051191, 97.70012193,\n",
       "       97.6998282 , 97.69869261, 97.69890484, 97.69746789])"
      ]
     },
     "execution_count": 284,
     "metadata": {},
     "output_type": "execute_result"
    }
   ],
   "source": [
    "forecast_set"
   ]
  },
  {
   "cell_type": "code",
   "execution_count": 285,
   "metadata": {},
   "outputs": [],
   "source": [
    "forecast = pd.DataFrame(forecast_set, columns = ['Forecast'])"
   ]
  },
  {
   "cell_type": "code",
   "execution_count": 286,
   "metadata": {},
   "outputs": [
    {
     "data": {
      "text/html": [
       "<div>\n",
       "<style scoped>\n",
       "    .dataframe tbody tr th:only-of-type {\n",
       "        vertical-align: middle;\n",
       "    }\n",
       "\n",
       "    .dataframe tbody tr th {\n",
       "        vertical-align: top;\n",
       "    }\n",
       "\n",
       "    .dataframe thead th {\n",
       "        text-align: right;\n",
       "    }\n",
       "</style>\n",
       "<table border=\"1\" class=\"dataframe\">\n",
       "  <thead>\n",
       "    <tr style=\"text-align: right;\">\n",
       "      <th></th>\n",
       "      <th>Forecast</th>\n",
       "    </tr>\n",
       "  </thead>\n",
       "  <tbody>\n",
       "    <tr>\n",
       "      <td>0</td>\n",
       "      <td>97.902405</td>\n",
       "    </tr>\n",
       "    <tr>\n",
       "      <td>1</td>\n",
       "      <td>97.901281</td>\n",
       "    </tr>\n",
       "    <tr>\n",
       "      <td>2</td>\n",
       "      <td>97.900711</td>\n",
       "    </tr>\n",
       "    <tr>\n",
       "      <td>3</td>\n",
       "      <td>97.901238</td>\n",
       "    </tr>\n",
       "    <tr>\n",
       "      <td>4</td>\n",
       "      <td>97.899631</td>\n",
       "    </tr>\n",
       "    <tr>\n",
       "      <td>...</td>\n",
       "      <td>...</td>\n",
       "    </tr>\n",
       "    <tr>\n",
       "      <td>409</td>\n",
       "      <td>97.700122</td>\n",
       "    </tr>\n",
       "    <tr>\n",
       "      <td>410</td>\n",
       "      <td>97.699828</td>\n",
       "    </tr>\n",
       "    <tr>\n",
       "      <td>411</td>\n",
       "      <td>97.698693</td>\n",
       "    </tr>\n",
       "    <tr>\n",
       "      <td>412</td>\n",
       "      <td>97.698905</td>\n",
       "    </tr>\n",
       "    <tr>\n",
       "      <td>413</td>\n",
       "      <td>97.697468</td>\n",
       "    </tr>\n",
       "  </tbody>\n",
       "</table>\n",
       "<p>414 rows × 1 columns</p>\n",
       "</div>"
      ],
      "text/plain": [
       "      Forecast\n",
       "0    97.902405\n",
       "1    97.901281\n",
       "2    97.900711\n",
       "3    97.901238\n",
       "4    97.899631\n",
       "..         ...\n",
       "409  97.700122\n",
       "410  97.699828\n",
       "411  97.698693\n",
       "412  97.698905\n",
       "413  97.697468\n",
       "\n",
       "[414 rows x 1 columns]"
      ]
     },
     "execution_count": 286,
     "metadata": {},
     "output_type": "execute_result"
    }
   ],
   "source": [
    "forecast"
   ]
  },
  {
   "cell_type": "code",
   "execution_count": 287,
   "metadata": {},
   "outputs": [],
   "source": [
    "alldata = pd.concat([series['Capacity'], forecast], ignore_index=True)"
   ]
  },
  {
   "cell_type": "code",
   "execution_count": 288,
   "metadata": {},
   "outputs": [
    {
     "data": {
      "text/plain": [
       "(4565, 2)"
      ]
     },
     "execution_count": 288,
     "metadata": {},
     "output_type": "execute_result"
    }
   ],
   "source": [
    "alldata.shape"
   ]
  },
  {
   "cell_type": "code",
   "execution_count": 289,
   "metadata": {},
   "outputs": [
    {
     "data": {
      "text/plain": [
       "<matplotlib.axes._subplots.AxesSubplot at 0x27a65e48048>"
      ]
     },
     "execution_count": 289,
     "metadata": {},
     "output_type": "execute_result"
    },
    {
     "data": {
      "image/png": "[encoded data removed]",
      "text/plain": [
       "<Figure size 432x288 with 1 Axes>"
      ]
     },
     "metadata": {
      "needs_background": "light"
     },
     "output_type": "display_data"
    }
   ],
   "source": [
    "alldata.plot()"
   ]
  },
  {
   "cell_type": "code",
   "execution_count": null,
   "metadata": {},
   "outputs": [],
   "source": []
  }
 ],
 "metadata": {
  "kernelspec": {
   "display_name": "Python 3",
   "language": "python",
   "name": "python3"
  },
  "language_info": {
   "codemirror_mode": {
    "name": "ipython",
    "version": 3
   },
   "file_extension": ".py",
   "mimetype": "text/x-python",
   "name": "python",
   "nbconvert_exporter": "python",
   "pygments_lexer": "ipython3",
   "version": "3.7.4"
  }
 },
 "nbformat": 4,
 "nbformat_minor": 2
}
