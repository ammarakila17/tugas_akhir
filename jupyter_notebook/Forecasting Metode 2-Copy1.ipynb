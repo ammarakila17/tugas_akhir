{
 "cells": [
  {
   "cell_type": "code",
   "execution_count": 1,
   "metadata": {},
   "outputs": [],
   "source": [
    "import pandas as pd\n",
    "import numpy as np\n",
    "import matplotlib.pyplot as plt\n",
    "import seaborn as sns\n",
    "\n",
    "from sklearn.preprocessing import MinMaxScaler\n",
    "#from sklearn.linear_model import LinearRegression\n",
    "from sklearn.metrics import mean_squared_error, mean_absolute_error, r2_score\n",
    "#from sklearn.ensemble import RandomForestRegressor\n",
    "#from xgboost.sklearn import XGBRegressor\n",
    "#from sklearn import preprocessing, svm\n",
    "\n",
    "import statsmodels.tsa.api as smt\n",
    "\n",
    "import pickle\n",
    "import math"
   ]
  },
  {
   "cell_type": "code",
   "execution_count": 2,
   "metadata": {},
   "outputs": [],
   "source": [
    "from sklearn.preprocessing import StandardScaler"
   ]
  },
  {
   "cell_type": "code",
   "execution_count": 3,
   "metadata": {},
   "outputs": [],
   "source": [
    "from tensorflow.keras.callbacks import EarlyStopping\n",
    "#from tensorflow.keras.utils import np_utils\n",
    "from tensorflow.keras.layers import LSTM\n",
    "from tensorflow.keras.models import Sequential\n",
    "from tensorflow.keras.layers import Dense, Activation\n",
    "from tensorflow.keras.optimizers import Adam\n",
    "from sklearn.model_selection import KFold, cross_val_score, train_test_split"
   ]
  },
  {
   "cell_type": "code",
   "execution_count": 4,
   "metadata": {},
   "outputs": [],
   "source": [
    "from tensorflow.keras.layers import Dropout"
   ]
  },
  {
   "cell_type": "code",
   "execution_count": 5,
   "metadata": {},
   "outputs": [],
   "source": [
    "series = pd.read_excel('LFP 1C.xlsx')\n",
    "data = series"
   ]
  },
  {
   "cell_type": "code",
   "execution_count": 6,
   "metadata": {
    "scrolled": true
   },
   "outputs": [
    {
     "data": {
      "text/html": [
       "<div>\n",
       "<style scoped>\n",
       "    .dataframe tbody tr th:only-of-type {\n",
       "        vertical-align: middle;\n",
       "    }\n",
       "\n",
       "    .dataframe tbody tr th {\n",
       "        vertical-align: top;\n",
       "    }\n",
       "\n",
       "    .dataframe thead th {\n",
       "        text-align: right;\n",
       "    }\n",
       "</style>\n",
       "<table border=\"1\" class=\"dataframe\">\n",
       "  <thead>\n",
       "    <tr style=\"text-align: right;\">\n",
       "      <th></th>\n",
       "      <th>Cycle</th>\n",
       "      <th>Capacity</th>\n",
       "    </tr>\n",
       "  </thead>\n",
       "  <tbody>\n",
       "    <tr>\n",
       "      <td>0</td>\n",
       "      <td>1</td>\n",
       "      <td>100.000000</td>\n",
       "    </tr>\n",
       "    <tr>\n",
       "      <td>1</td>\n",
       "      <td>2</td>\n",
       "      <td>99.961388</td>\n",
       "    </tr>\n",
       "    <tr>\n",
       "      <td>2</td>\n",
       "      <td>3</td>\n",
       "      <td>99.922789</td>\n",
       "    </tr>\n",
       "    <tr>\n",
       "      <td>3</td>\n",
       "      <td>4</td>\n",
       "      <td>99.884202</td>\n",
       "    </tr>\n",
       "    <tr>\n",
       "      <td>4</td>\n",
       "      <td>5</td>\n",
       "      <td>99.845628</td>\n",
       "    </tr>\n",
       "  </tbody>\n",
       "</table>\n",
       "</div>"
      ],
      "text/plain": [
       "   Cycle    Capacity\n",
       "0      1  100.000000\n",
       "1      2   99.961388\n",
       "2      3   99.922789\n",
       "3      4   99.884202\n",
       "4      5   99.845628"
      ]
     },
     "execution_count": 6,
     "metadata": {},
     "output_type": "execute_result"
    }
   ],
   "source": [
    "data.head()"
   ]
  },
  {
   "cell_type": "code",
   "execution_count": 6,
   "metadata": {},
   "outputs": [],
   "source": [
    "def time_plot(data, x_col, y_col, title):\n",
    "    fig, ax = plt.subplots(figsize=(15,5))\n",
    "    sns.lineplot(x_col, y_col, data=data, ax=ax, color='mediumblue', label='Capacity')\n",
    "    \n",
    "    #second = data.groupby(data.date.dt.year)[y_col].mean().reset_index()\n",
    "    #second.date = pd.to_datetime(second.date, format='%Y')\n",
    "    #sns.lineplot((second.date + datetime.timedelta(6*365/12)), y_col, data=second, ax=ax, color='red', label='Mean Sales')   \n",
    "    \n",
    "    ax.set(xlabel = \"Cycle\",\n",
    "           ylabel = \"Capacity\",\n",
    "           title = title)\n",
    "    \n",
    "    sns.despine()"
   ]
  },
  {
   "cell_type": "code",
   "execution_count": 7,
   "metadata": {},
   "outputs": [],
   "source": [
    "data['capacity_diff'] = data['Capacity'].diff()\n",
    "data = data.dropna()"
   ]
  },
  {
   "cell_type": "code",
   "execution_count": 8,
   "metadata": {},
   "outputs": [],
   "source": [
    "def generate_supervised(data):\n",
    "    supervised_df = data.copy()\n",
    "    \n",
    "    #create column for each lag\n",
    "    for i in range(1,7):\n",
    "        col_name = 'lag_' + str(i)\n",
    "        supervised_df[col_name] = supervised_df['capacity_diff'].shift(i)\n",
    "    \n",
    "    #drop null values\n",
    "    supervised_df = supervised_df.dropna().reset_index(drop=True)\n",
    "    \n",
    "    #supervised_df.to_csv('../data/model_df.csv', index=False)\n",
    "    \n",
    "    return supervised_df"
   ]
  },
  {
   "cell_type": "code",
   "execution_count": 9,
   "metadata": {},
   "outputs": [],
   "source": [
    "def train_test_split(data, n_test):\n",
    "\treturn data[:n_test], data[n_test:]"
   ]
  },
  {
   "cell_type": "code",
   "execution_count": 10,
   "metadata": {},
   "outputs": [],
   "source": [
    "model_df = generate_supervised(data)\n",
    "real = pd.read_excel('Data Degradasi 80 Cycle Skenario 2.xlsx')\n",
    "real = real.drop('Cycle', axis = 1)\n",
    "model_df['Real'] = real\n",
    "model_df = model_df.drop(['Cycle'], axis=1)\n",
    "train_set, test_set = train_test_split(model_df, 80);"
   ]
  },
  {
   "cell_type": "code",
   "execution_count": 11,
   "metadata": {},
   "outputs": [],
   "source": [
    "def scale_data(train_set, test_set):\n",
    "    #apply Min Max Scaler\n",
    "    scaler = MinMaxScaler(feature_range=(-1,1))\n",
    "    scaler = scaler.fit(train_set)\n",
    "    \n",
    "    # reshape training set\n",
    "    train_set = train_set.values.reshape(train_set.shape[0], train_set.shape[1])\n",
    "    train_set_scaled = scaler.transform(train_set)\n",
    "    \n",
    "    # reshape test set\n",
    "    test_set = test_set.values.reshape(test_set.shape[0], test_set.shape[1])\n",
    "    test_set_scaled = scaler.transform(test_set)\n",
    "    \n",
    "    #X_train, y_train = train_set[:, :-1], train_set[:, -1:]\n",
    "    #X_test, y_test = test_set[:, :-1], test_set[:, -1:]\n",
    "    \n",
    "    X_train, y_train = train_set_scaled[:, :-1], train_set_scaled[:, -1:]\n",
    "    X_test, y_test = test_set_scaled[:, :-1], test_set_scaled[:, -1:]\n",
    "    \n",
    "    return X_train, y_train, X_test, y_test, scaler\n",
    "\n",
    "X_train, y_train, X_test, y_test, scaler_object = scale_data(train_set, test_set) "
   ]
  },
  {
   "cell_type": "code",
   "execution_count": 12,
   "metadata": {},
   "outputs": [],
   "source": [
    "def load_original_df():\n",
    "    #load in original dataframe without scaling applied\n",
    "    original_df = pd.read_excel('Data Degradasi 80 Cycle Skenario 2.xlsx')\n",
    "    #original_df.date = original_df.date.apply(lambda x: str(x)[:-3])\n",
    "    #original_df = original_df.groupby('date')['sales'].sum().reset_index()\n",
    "    #original_df.date = pd.to_datetime(original_df.date)\n",
    "    \n",
    "    return original_df"
   ]
  },
  {
   "cell_type": "code",
   "execution_count": 13,
   "metadata": {},
   "outputs": [],
   "source": [
    "def undo_scaling(y_pred, x_test, scaler_obj, lstm=True):  \n",
    "    #reshape y_pred\n",
    "    y_pred = y_pred.reshape(y_pred.shape[0], 1, 1)\n",
    "    \n",
    "    if not lstm:\n",
    "        x_test = x_test.reshape(x_test.shape[0], 1, x_test.shape[1])\n",
    "    \n",
    "    #rebuild test set for inverse transform\n",
    "    pred_test_set = []\n",
    "    for index in range(0,len(y_pred)):\n",
    "        pred_test_set.append(np.concatenate([y_pred[index],x_test[index]],axis=1))\n",
    "        \n",
    "    #reshape pred_test_set\n",
    "    pred_test_set = np.array(pred_test_set)\n",
    "    pred_test_set = pred_test_set.reshape(pred_test_set.shape[0], pred_test_set.shape[2])\n",
    "    \n",
    "    #inverse transform\n",
    "    pred_test_set_inverted = scaler_obj.inverse_transform(pred_test_set)\n",
    "    \n",
    "    return pred_test_set_inverted"
   ]
  },
  {
   "cell_type": "code",
   "execution_count": 14,
   "metadata": {},
   "outputs": [],
   "source": [
    "def predict_df(unscaled_predictions, original_df):\n",
    "    #create dataframe that shows the predicted sales\n",
    "    result_list = []\n",
    "    cycle = list(series[80:]['Cycle'])\n",
    "    #capacity = list(original_df[80:]['Capacity'])\n",
    "    \n",
    "    for index in range(0,len(unscaled_predictions)):\n",
    "        result_dict = {}\n",
    "        result_dict['pred_value'] = int(unscaled_predictions[index][0])\n",
    "        result_dict['Cycle'] = cycle[index]\n",
    "        result_list.append(result_dict)\n",
    "        \n",
    "    df_result = pd.DataFrame(result_list)\n",
    "    \n",
    "    return df_result"
   ]
  },
  {
   "cell_type": "code",
   "execution_count": 15,
   "metadata": {},
   "outputs": [],
   "source": [
    "model_scores = {}\n",
    "\n",
    "def get_scores(unscaled_df, original_df, model_name):\n",
    "    rmse = np.sqrt(mean_squared_error(model_df['Capacity'][80:], unscaled_df.pred_value))\n",
    "    mae = mean_absolute_error(model_df['Capacity'][80:], unscaled_df.pred_value)\n",
    "    r2 = r2_score(model_df['Capacity'][80:], unscaled_df.pred_value)\n",
    "    model_scores[model_name] = [rmse, mae, r2]\n",
    "\n",
    "    print(f\"RMSE: {rmse}\")\n",
    "    print(f\"MAE: {mae}\")\n",
    "    print(f\"R2 Score: {r2}\")"
   ]
  },
  {
   "cell_type": "code",
   "execution_count": 16,
   "metadata": {},
   "outputs": [],
   "source": [
    "def combine_data(original_df, unscaled_df):\n",
    "    alldata = pd.concat([original_df['Capacity'], unscaled_df['pred_value']], ignore_index=True)\n",
    "    cycle = pd.DataFrame(np.arange(len(alldata)), columns = ['Cycle'])\n",
    "    alldata = pd.DataFrame(alldata, columns = ['Capacity'])\n",
    "    alldata['Cycle'] = cycle\n",
    "    \n",
    "    return alldata"
   ]
  },
  {
   "cell_type": "code",
   "execution_count": 32,
   "metadata": {},
   "outputs": [],
   "source": [
    "def plot_results(alldata, model_name):\n",
    "\n",
    "    fig, ax = plt.subplots(figsize=(8,5))\n",
    "    sns.lineplot(alldata['Cycle'][:80], alldata['Capacity'][:80], data=alldata, ax=ax, \n",
    "                 label='Original', color='mediumblue')\n",
    "    sns.lineplot(alldata['Cycle'][80:], alldata['Capacity'][80:], data=alldata, ax=ax, \n",
    "                 label='Predicted', color='Red')\n",
    "    \n",
    "    ax.set(xlabel = \"Siklus\",\n",
    "           ylabel = \"Kapasitas\",\n",
    "           title = f\"Prediksi Penurunan Kapasitas dengan {model_name}\")\n",
    "    \n",
    "    ax.legend()\n",
    "    \n",
    "    sns.despine()\n",
    "    \n",
    "    #plt.savefig(f'../model_output/{model_name}_forecast.png')"
   ]
  },
  {
   "cell_type": "code",
   "execution_count": 18,
   "metadata": {},
   "outputs": [],
   "source": [
    "X_train = X_train.reshape(X_train.shape[0], 1, X_train.shape[1])\n",
    "X_test = X_test.reshape(X_test.shape[0], 1, X_test.shape[1])"
   ]
  },
  {
   "cell_type": "code",
   "execution_count": 19,
   "metadata": {},
   "outputs": [],
   "source": [
    "model = Sequential()\n",
    "model.add(LSTM(50, batch_input_shape=(1, X_train.shape[1], X_train.shape[2]), stateful=True, return_sequences=True))\n",
    "model.add(LSTM(50, batch_input_shape=(1, X_train.shape[1], X_train.shape[2]), stateful=True, return_sequences=True))\n",
    "model.add(Dense(1))\n",
    "\n",
    "model.compile(loss='mean_squared_error', optimizer='adam')"
   ]
  },
  {
   "cell_type": "code",
   "execution_count": 20,
   "metadata": {},
   "outputs": [
    {
     "name": "stdout",
     "output_type": "stream",
     "text": [
      "Train on 80 samples\n",
      "Epoch 1/80\n",
      "80/80 [==============================] - 6s 75ms/sample - loss: 0.1306\n",
      "Epoch 2/80\n",
      "80/80 [==============================] - 0s 4ms/sample - loss: 0.1812\n",
      "Epoch 3/80\n",
      "80/80 [==============================] - 0s 4ms/sample - loss: 0.1174\n",
      "Epoch 4/80\n",
      "80/80 [==============================] - 0s 4ms/sample - loss: 0.0905\n",
      "Epoch 5/80\n",
      "80/80 [==============================] - 0s 4ms/sample - loss: 0.0370\n",
      "Epoch 6/80\n",
      "80/80 [==============================] - 0s 4ms/sample - loss: 0.0224\n",
      "Epoch 7/80\n",
      "80/80 [==============================] - 0s 4ms/sample - loss: 0.0105\n",
      "Epoch 8/80\n",
      "80/80 [==============================] - 0s 4ms/sample - loss: 0.0034\n",
      "Epoch 9/80\n",
      "80/80 [==============================] - 0s 4ms/sample - loss: 0.0011\n",
      "Epoch 10/80\n",
      "80/80 [==============================] - 0s 4ms/sample - loss: 8.1047e-04\n",
      "Epoch 11/80\n",
      "80/80 [==============================] - 0s 4ms/sample - loss: 0.0010\n",
      "Epoch 12/80\n",
      "80/80 [==============================] - 0s 4ms/sample - loss: 7.5376e-04\n",
      "Epoch 13/80\n",
      "80/80 [==============================] - 0s 4ms/sample - loss: 5.5451e-04\n",
      "Epoch 14/80\n",
      "80/80 [==============================] - 0s 4ms/sample - loss: 4.5969e-04\n",
      "Epoch 15/80\n",
      "80/80 [==============================] - 0s 5ms/sample - loss: 3.1006e-04\n",
      "Epoch 16/80\n",
      "80/80 [==============================] - 0s 4ms/sample - loss: 2.2108e-04\n",
      "Epoch 17/80\n",
      "80/80 [==============================] - 0s 5ms/sample - loss: 1.9299e-04\n",
      "Epoch 18/80\n",
      "80/80 [==============================] - 0s 5ms/sample - loss: 1.7232e-04\n",
      "Epoch 19/80\n",
      "80/80 [==============================] - 0s 5ms/sample - loss: 1.4906e-04\n",
      "Epoch 20/80\n",
      "80/80 [==============================] - 0s 4ms/sample - loss: 1.3096e-04\n",
      "Epoch 21/80\n",
      "80/80 [==============================] - 0s 5ms/sample - loss: 1.2065e-04\n",
      "Epoch 22/80\n",
      "80/80 [==============================] - 0s 5ms/sample - loss: 1.1748e-04\n",
      "Epoch 23/80\n",
      "80/80 [==============================] - 0s 5ms/sample - loss: 1.2734e-04\n",
      "Epoch 24/80\n",
      "80/80 [==============================] - 0s 5ms/sample - loss: 1.6218e-04\n",
      "Epoch 25/80\n",
      "80/80 [==============================] - 0s 5ms/sample - loss: 2.3459e-04\n",
      "Epoch 26/80\n",
      "80/80 [==============================] - 0s 5ms/sample - loss: 3.4959e-04\n",
      "Epoch 27/80\n",
      "80/80 [==============================] - 0s 4ms/sample - loss: 5.0551e-04\n",
      "Epoch 28/80\n",
      "80/80 [==============================] - 0s 5ms/sample - loss: 6.9665e-04\n",
      "Epoch 29/80\n",
      "80/80 [==============================] - 0s 5ms/sample - loss: 9.1717e-04\n",
      "Epoch 30/80\n",
      "80/80 [==============================] - 0s 5ms/sample - loss: 0.0011\n",
      "Epoch 31/80\n",
      "80/80 [==============================] - 0s 5ms/sample - loss: 0.0013\n",
      "Epoch 32/80\n",
      "80/80 [==============================] - 0s 4ms/sample - loss: 0.0014\n",
      "Epoch 33/80\n",
      "80/80 [==============================] - 0s 4ms/sample - loss: 0.0015\n",
      "Epoch 34/80\n",
      "80/80 [==============================] - 0s 3ms/sample - loss: 0.0015\n",
      "Epoch 35/80\n",
      "80/80 [==============================] - 0s 4ms/sample - loss: 0.0018\n",
      "Epoch 36/80\n",
      "80/80 [==============================] - 0s 3ms/sample - loss: 0.0022\n",
      "Epoch 37/80\n",
      "80/80 [==============================] - 0s 4ms/sample - loss: 0.0017\n",
      "Epoch 38/80\n",
      "80/80 [==============================] - 0s 4ms/sample - loss: 0.0032\n",
      "Epoch 39/80\n",
      "80/80 [==============================] - 0s 4ms/sample - loss: 0.0062\n",
      "Epoch 40/80\n",
      "80/80 [==============================] - 0s 5ms/sample - loss: 0.0163\n",
      "Epoch 41/80\n",
      "80/80 [==============================] - 0s 4ms/sample - loss: 0.0141\n",
      "Epoch 42/80\n",
      "80/80 [==============================] - 0s 4ms/sample - loss: 0.0160\n",
      "Epoch 43/80\n",
      "80/80 [==============================] - 0s 4ms/sample - loss: 0.0124\n",
      "Epoch 44/80\n",
      "80/80 [==============================] - 0s 4ms/sample - loss: 0.0067\n",
      "Epoch 45/80\n",
      "80/80 [==============================] - 0s 4ms/sample - loss: 0.0069\n",
      "Epoch 46/80\n",
      "80/80 [==============================] - 0s 4ms/sample - loss: 0.0037\n",
      "Epoch 47/80\n",
      "80/80 [==============================] - 0s 4ms/sample - loss: 0.0019\n",
      "Epoch 48/80\n",
      "80/80 [==============================] - 0s 4ms/sample - loss: 8.1915e-04\n",
      "Epoch 49/80\n",
      "80/80 [==============================] - 0s 4ms/sample - loss: 0.0015\n",
      "Epoch 50/80\n",
      "80/80 [==============================] - 0s 5ms/sample - loss: 0.0031\n",
      "Epoch 51/80\n",
      "80/80 [==============================] - 0s 5ms/sample - loss: 3.8910e-04\n",
      "Epoch 52/80\n",
      "80/80 [==============================] - 0s 5ms/sample - loss: 0.0010\n",
      "Epoch 53/80\n",
      "80/80 [==============================] - 0s 5ms/sample - loss: 5.9924e-04\n",
      "Epoch 54/80\n",
      "80/80 [==============================] - 0s 5ms/sample - loss: 4.6903e-04\n",
      "Epoch 55/80\n",
      "80/80 [==============================] - 0s 5ms/sample - loss: 1.6757e-04\n",
      "Epoch 56/80\n",
      "80/80 [==============================] - 0s 5ms/sample - loss: 1.2411e-04\n",
      "Epoch 57/80\n",
      "80/80 [==============================] - 0s 5ms/sample - loss: 1.3229e-04\n",
      "Epoch 58/80\n",
      "80/80 [==============================] - 0s 4ms/sample - loss: 1.9713e-04\n",
      "Epoch 59/80\n",
      "80/80 [==============================] - 0s 4ms/sample - loss: 1.0935e-04\n",
      "Epoch 60/80\n",
      "80/80 [==============================] - 0s 5ms/sample - loss: 1.0925e-04\n",
      "Epoch 61/80\n",
      "80/80 [==============================] - 0s 5ms/sample - loss: 1.2735e-04\n",
      "Epoch 62/80\n",
      "80/80 [==============================] - 0s 4ms/sample - loss: 1.0324e-04\n",
      "Epoch 63/80\n",
      "80/80 [==============================] - 0s 5ms/sample - loss: 7.4180e-05\n",
      "Epoch 64/80\n",
      "80/80 [==============================] - 0s 5ms/sample - loss: 1.6541e-04\n",
      "Epoch 65/80\n",
      "80/80 [==============================] - 0s 4ms/sample - loss: 3.0863e-04\n",
      "Epoch 66/80\n",
      "80/80 [==============================] - 0s 4ms/sample - loss: 1.1325e-04\n",
      "Epoch 67/80\n",
      "80/80 [==============================] - 0s 4ms/sample - loss: 4.9061e-04\n",
      "Epoch 68/80\n",
      "80/80 [==============================] - 0s 3ms/sample - loss: 0.0020\n",
      "Epoch 69/80\n",
      "80/80 [==============================] - 0s 3ms/sample - loss: 5.5644e-04\n",
      "Epoch 70/80\n",
      "80/80 [==============================] - 0s 3ms/sample - loss: 0.0019\n",
      "Epoch 71/80\n",
      "80/80 [==============================] - 0s 4ms/sample - loss: 0.0075\n",
      "Epoch 72/80\n",
      "80/80 [==============================] - 0s 4ms/sample - loss: 0.0059\n",
      "Epoch 73/80\n",
      "80/80 [==============================] - 0s 4ms/sample - loss: 0.0016\n",
      "Epoch 74/80\n",
      "80/80 [==============================] - 0s 3ms/sample - loss: 0.0048\n",
      "Epoch 75/80\n",
      "80/80 [==============================] - 0s 4ms/sample - loss: 0.0037\n",
      "Epoch 76/80\n",
      "80/80 [==============================] - 0s 5ms/sample - loss: 0.0013\n",
      "Epoch 77/80\n",
      "80/80 [==============================] - 0s 5ms/sample - loss: 0.0021\n",
      "Epoch 78/80\n",
      "80/80 [==============================] - 0s 4ms/sample - loss: 0.0023\n",
      "Epoch 79/80\n",
      "80/80 [==============================] - 0s 5ms/sample - loss: 6.2497e-04\n",
      "Epoch 80/80\n",
      "80/80 [==============================] - 0s 5ms/sample - loss: 5.8540e-04\n"
     ]
    }
   ],
   "source": [
    "history = model.fit(X_train, y_train, epochs=80, batch_size=1, verbose=1, \n",
    "            shuffle=False)"
   ]
  },
  {
   "cell_type": "code",
   "execution_count": 21,
   "metadata": {},
   "outputs": [],
   "source": [
    "predictions = model.predict(X_test,batch_size=1)"
   ]
  },
  {
   "cell_type": "code",
   "execution_count": 23,
   "metadata": {},
   "outputs": [
    {
     "data": {
      "image/png": "[encoded data removed]",
      "text/plain": [
       "<Figure size 432x288 with 1 Axes>"
      ]
     },
     "metadata": {
      "needs_background": "light"
     },
     "output_type": "display_data"
    }
   ],
   "source": [
    "plt.plot(history.history['loss'])\n",
    "plt.ylabel('Loss Value')\n",
    "plt.xlabel('Siklus')\n",
    "plt.title('LSTM Loss Function')\n",
    "plt.show()"
   ]
  },
  {
   "cell_type": "code",
   "execution_count": 24,
   "metadata": {},
   "outputs": [],
   "source": [
    "original_df = load_original_df()"
   ]
  },
  {
   "cell_type": "code",
   "execution_count": 25,
   "metadata": {},
   "outputs": [],
   "source": [
    "unscaled = undo_scaling(predictions, X_test, scaler_object, lstm=True)"
   ]
  },
  {
   "cell_type": "code",
   "execution_count": 26,
   "metadata": {},
   "outputs": [],
   "source": [
    "unscaled_df = predict_df(unscaled, original_df)"
   ]
  },
  {
   "cell_type": "code",
   "execution_count": 27,
   "metadata": {},
   "outputs": [
    {
     "name": "stdout",
     "output_type": "stream",
     "text": [
      "RMSE: 10.63202278995335\n",
      "MAE: 9.194482170406605\n",
      "R2 Score: -3.3689208677053637\n"
     ]
    }
   ],
   "source": [
    "get_scores(unscaled_df, original_df, \"LSTM\")"
   ]
  },
  {
   "cell_type": "code",
   "execution_count": 28,
   "metadata": {},
   "outputs": [],
   "source": [
    "alldata = combine_data(original_df, unscaled_df)"
   ]
  },
  {
   "cell_type": "code",
   "execution_count": 33,
   "metadata": {},
   "outputs": [
    {
     "data": {
      "image/png": "[encoded data removed]",
      "text/plain": [
       "<Figure size 576x360 with 1 Axes>"
      ]
     },
     "metadata": {
      "needs_background": "light"
     },
     "output_type": "display_data"
    }
   ],
   "source": [
    "plot_results(alldata, 'LSTM')"
   ]
  },
  {
   "cell_type": "code",
   "execution_count": 193,
   "metadata": {},
   "outputs": [],
   "source": [
    "original_data = pd.DataFrame(data=y_train, columns=[\"Original\"])"
   ]
  },
  {
   "cell_type": "code",
   "execution_count": 194,
   "metadata": {},
   "outputs": [
    {
     "data": {
      "text/plain": [
       "<matplotlib.axes._subplots.AxesSubplot at 0x18aa3cd8c88>"
      ]
     },
     "execution_count": 194,
     "metadata": {},
     "output_type": "execute_result"
    },
    {
     "data": {
      "image/png": "[encoded data removed]",
      "text/plain": [
       "<Figure size 432x288 with 1 Axes>"
      ]
     },
     "metadata": {
      "needs_background": "light"
     },
     "output_type": "display_data"
    }
   ],
   "source": [
    "original_data.plot()"
   ]
  },
  {
   "cell_type": "code",
   "execution_count": 210,
   "metadata": {},
   "outputs": [],
   "source": [
    "predictions = predictions.reshape(predictions.shape[0], predictions.shape[1])"
   ]
  },
  {
   "cell_type": "code",
   "execution_count": 211,
   "metadata": {},
   "outputs": [],
   "source": [
    "prediction_data = pd.DataFrame(data=predictions, columns=[\"Prediction\"])"
   ]
  },
  {
   "cell_type": "code",
   "execution_count": 212,
   "metadata": {},
   "outputs": [
    {
     "data": {
      "text/plain": [
       "<matplotlib.axes._subplots.AxesSubplot at 0x18ad5f734c8>"
      ]
     },
     "execution_count": 212,
     "metadata": {},
     "output_type": "execute_result"
    },
    {
     "data": {
      "image/png": "[encoded data removed]",
      "text/plain": [
       "<Figure size 432x288 with 1 Axes>"
      ]
     },
     "metadata": {
      "needs_background": "light"
     },
     "output_type": "display_data"
    }
   ],
   "source": [
    "prediction_data.plot()"
   ]
  },
  {
   "cell_type": "code",
   "execution_count": 198,
   "metadata": {},
   "outputs": [],
   "source": [
    "all_data = pd.concat([original_data['Original'], prediction_data['Prediction']], ignore_index=True)"
   ]
  },
  {
   "cell_type": "code",
   "execution_count": 164,
   "metadata": {},
   "outputs": [
    {
     "data": {
      "text/html": [
       "<div>\n",
       "<style scoped>\n",
       "    .dataframe tbody tr th:only-of-type {\n",
       "        vertical-align: middle;\n",
       "    }\n",
       "\n",
       "    .dataframe tbody tr th {\n",
       "        vertical-align: top;\n",
       "    }\n",
       "\n",
       "    .dataframe thead th {\n",
       "        text-align: right;\n",
       "    }\n",
       "</style>\n",
       "<table border=\"1\" class=\"dataframe\">\n",
       "  <thead>\n",
       "    <tr style=\"text-align: right;\">\n",
       "      <th></th>\n",
       "      <th>Original</th>\n",
       "    </tr>\n",
       "  </thead>\n",
       "  <tbody>\n",
       "    <tr>\n",
       "      <td>0</td>\n",
       "      <td>1.000000</td>\n",
       "    </tr>\n",
       "    <tr>\n",
       "      <td>1</td>\n",
       "      <td>0.974989</td>\n",
       "    </tr>\n",
       "    <tr>\n",
       "      <td>2</td>\n",
       "      <td>0.941274</td>\n",
       "    </tr>\n",
       "    <tr>\n",
       "      <td>3</td>\n",
       "      <td>0.932815</td>\n",
       "    </tr>\n",
       "    <tr>\n",
       "      <td>4</td>\n",
       "      <td>0.913954</td>\n",
       "    </tr>\n",
       "    <tr>\n",
       "      <td>...</td>\n",
       "      <td>...</td>\n",
       "    </tr>\n",
       "    <tr>\n",
       "      <td>75</td>\n",
       "      <td>-0.900778</td>\n",
       "    </tr>\n",
       "    <tr>\n",
       "      <td>76</td>\n",
       "      <td>-0.929228</td>\n",
       "    </tr>\n",
       "    <tr>\n",
       "      <td>77</td>\n",
       "      <td>-0.953353</td>\n",
       "    </tr>\n",
       "    <tr>\n",
       "      <td>78</td>\n",
       "      <td>-0.975429</td>\n",
       "    </tr>\n",
       "    <tr>\n",
       "      <td>79</td>\n",
       "      <td>-1.000000</td>\n",
       "    </tr>\n",
       "  </tbody>\n",
       "</table>\n",
       "<p>80 rows × 1 columns</p>\n",
       "</div>"
      ],
      "text/plain": [
       "    Original\n",
       "0   1.000000\n",
       "1   0.974989\n",
       "2   0.941274\n",
       "3   0.932815\n",
       "4   0.913954\n",
       "..       ...\n",
       "75 -0.900778\n",
       "76 -0.929228\n",
       "77 -0.953353\n",
       "78 -0.975429\n",
       "79 -1.000000\n",
       "\n",
       "[80 rows x 1 columns]"
      ]
     },
     "execution_count": 164,
     "metadata": {},
     "output_type": "execute_result"
    }
   ],
   "source": [
    "original_data"
   ]
  },
  {
   "cell_type": "code",
   "execution_count": 199,
   "metadata": {},
   "outputs": [
    {
     "data": {
      "text/plain": [
       "<matplotlib.axes._subplots.AxesSubplot at 0x18ac59cd308>"
      ]
     },
     "execution_count": 199,
     "metadata": {},
     "output_type": "execute_result"
    },
    {
     "data": {
      "image/png": "[encoded data removed]",
      "text/plain": [
       "<Figure size 432x288 with 1 Axes>"
      ]
     },
     "metadata": {
      "needs_background": "light"
     },
     "output_type": "display_data"
    }
   ],
   "source": [
    "all_data.plot()"
   ]
  },
  {
   "cell_type": "code",
   "execution_count": 156,
   "metadata": {},
   "outputs": [
    {
     "data": {
      "text/plain": [
       "<matplotlib.legend.Legend at 0x1b8f35ac408>"
      ]
     },
     "execution_count": 156,
     "metadata": {},
     "output_type": "execute_result"
    },
    {
     "data": {
      "image/png": "[encoded data removed]",
      "text/plain": [
       "<Figure size 576x360 with 1 Axes>"
      ]
     },
     "metadata": {
      "needs_background": "light"
     },
     "output_type": "display_data"
    }
   ],
   "source": [
    "fig, ax = plt.subplots(figsize=(8,5))\n",
    "sns.lineplot(alldata['Cycle'][:80], alldata['Capacity'][:80], data=alldata, ax=ax, \n",
    "             label='Original', color='mediumblue')\n",
    "sns.lineplot(alldata['Cycle'][80:], alldata['Capacity'][80:], data=alldata, ax=ax, \n",
    "             label='Predicted', color='Red')\n",
    "    \n",
    "ax.set(xlabel = \"Cycle\",\n",
    "       ylabel = \"Capacity\",\n",
    "       title = \"LSTM Capacity Forecasting Prediction Unscaled\")\n",
    "    \n",
    "ax.legend()"
   ]
  },
  {
   "cell_type": "code",
   "execution_count": null,
   "metadata": {},
   "outputs": [],
   "source": []
  }
 ],
 "metadata": {
  "kernelspec": {
   "display_name": "Python 3",
   "language": "python",
   "name": "python3"
  },
  "language_info": {
   "codemirror_mode": {
    "name": "ipython",
    "version": 3
   },
   "file_extension": ".py",
   "mimetype": "text/x-python",
   "name": "python",
   "nbconvert_exporter": "python",
   "pygments_lexer": "ipython3",
   "version": "3.7.4"
  }
 },
 "nbformat": 4,
 "nbformat_minor": 2
}
