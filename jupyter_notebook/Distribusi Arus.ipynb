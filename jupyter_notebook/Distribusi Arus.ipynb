{
 "cells": [
  {
   "cell_type": "code",
   "execution_count": 1,
   "metadata": {},
   "outputs": [],
   "source": [
    "import pandas as pd\n",
    "import numpy as np\n",
    "\n",
    "import matplotlib.pyplot as plt\n",
    "import seaborn as sns"
   ]
  },
  {
   "cell_type": "code",
   "execution_count": 2,
   "metadata": {},
   "outputs": [],
   "source": [
    "series = pd.read_excel('Distribusi Arus.xlsx')"
   ]
  },
  {
   "cell_type": "code",
   "execution_count": 3,
   "metadata": {},
   "outputs": [
    {
     "data": {
      "text/html": [
       "<div>\n",
       "<style scoped>\n",
       "    .dataframe tbody tr th:only-of-type {\n",
       "        vertical-align: middle;\n",
       "    }\n",
       "\n",
       "    .dataframe tbody tr th {\n",
       "        vertical-align: top;\n",
       "    }\n",
       "\n",
       "    .dataframe thead th {\n",
       "        text-align: right;\n",
       "    }\n",
       "</style>\n",
       "<table border=\"1\" class=\"dataframe\">\n",
       "  <thead>\n",
       "    <tr style=\"text-align: right;\">\n",
       "      <th></th>\n",
       "      <th>Segmen Arus</th>\n",
       "      <th>Skenario 1 (%)</th>\n",
       "      <th>Skenario 2 (%)</th>\n",
       "      <th>Skenario 3 (%)</th>\n",
       "    </tr>\n",
       "  </thead>\n",
       "  <tbody>\n",
       "    <tr>\n",
       "      <td>0</td>\n",
       "      <td>Arus &gt; 30</td>\n",
       "      <td>10.452045</td>\n",
       "      <td>3.343392</td>\n",
       "      <td>9.923664</td>\n",
       "    </tr>\n",
       "    <tr>\n",
       "      <td>1</td>\n",
       "      <td>25 &lt; Arus &lt; 30</td>\n",
       "      <td>1.578570</td>\n",
       "      <td>2.848521</td>\n",
       "      <td>12.918379</td>\n",
       "    </tr>\n",
       "    <tr>\n",
       "      <td>2</td>\n",
       "      <td>20 &lt; Arus &lt; 25</td>\n",
       "      <td>1.435063</td>\n",
       "      <td>2.196741</td>\n",
       "      <td>4.345273</td>\n",
       "    </tr>\n",
       "    <tr>\n",
       "      <td>3</td>\n",
       "      <td>15 &lt; Arus &lt; 20</td>\n",
       "      <td>2.583114</td>\n",
       "      <td>3.295112</td>\n",
       "      <td>5.578391</td>\n",
       "    </tr>\n",
       "    <tr>\n",
       "      <td>4</td>\n",
       "      <td>10 &lt; Arus &lt; 15</td>\n",
       "      <td>3.324564</td>\n",
       "      <td>5.672903</td>\n",
       "      <td>5.813271</td>\n",
       "    </tr>\n",
       "    <tr>\n",
       "      <td>5</td>\n",
       "      <td>5 &lt; Arus &lt; 10</td>\n",
       "      <td>5.740254</td>\n",
       "      <td>10.790585</td>\n",
       "      <td>6.341750</td>\n",
       "    </tr>\n",
       "    <tr>\n",
       "      <td>6</td>\n",
       "      <td>1 &lt; Arus &lt; 5</td>\n",
       "      <td>11.647931</td>\n",
       "      <td>18.201569</td>\n",
       "      <td>2.642396</td>\n",
       "    </tr>\n",
       "    <tr>\n",
       "      <td>7</td>\n",
       "      <td>Arus &lt; 1</td>\n",
       "      <td>63.238460</td>\n",
       "      <td>53.651177</td>\n",
       "      <td>52.436876</td>\n",
       "    </tr>\n",
       "  </tbody>\n",
       "</table>\n",
       "</div>"
      ],
      "text/plain": [
       "      Segmen Arus  Skenario 1 (%)  Skenario 2 (%)  Skenario 3 (%)\n",
       "0       Arus > 30       10.452045        3.343392        9.923664\n",
       "1  25 < Arus < 30        1.578570        2.848521       12.918379\n",
       "2  20 < Arus < 25        1.435063        2.196741        4.345273\n",
       "3  15 < Arus < 20        2.583114        3.295112        5.578391\n",
       "4  10 < Arus < 15        3.324564        5.672903        5.813271\n",
       "5   5 < Arus < 10        5.740254       10.790585        6.341750\n",
       "6    1 < Arus < 5       11.647931       18.201569        2.642396\n",
       "7        Arus < 1       63.238460       53.651177       52.436876"
      ]
     },
     "execution_count": 3,
     "metadata": {},
     "output_type": "execute_result"
    }
   ],
   "source": [
    "series"
   ]
  },
  {
   "cell_type": "code",
   "execution_count": 4,
   "metadata": {},
   "outputs": [],
   "source": [
    "series1 = series['Skenario 1 (%)']\n",
    "series2 = series['Skenario 2 (%)']\n",
    "series3 = series['Skenario 3 (%)']"
   ]
  },
  {
   "cell_type": "code",
   "execution_count": 5,
   "metadata": {},
   "outputs": [
    {
     "data": {
      "text/plain": [
       "0    10.452045\n",
       "1     1.578570\n",
       "2     1.435063\n",
       "3     2.583114\n",
       "4     3.324564\n",
       "5     5.740254\n",
       "6    11.647931\n",
       "7    63.238460\n",
       "Name: Skenario 1 (%), dtype: float64"
      ]
     },
     "execution_count": 5,
     "metadata": {},
     "output_type": "execute_result"
    }
   ],
   "source": [
    "series1"
   ]
  },
  {
   "cell_type": "code",
   "execution_count": 6,
   "metadata": {},
   "outputs": [],
   "source": [
    "def change_width(ax, new_value,recenter=False) :\n",
    "    for patch in ax.patches :\n",
    "        current_width = patch.get_width()\n",
    "        diff = current_width - new_value\n",
    "        patch.set_width(new_value)\n",
    "        if recenter==True:  \n",
    "            patch.set_x(patch.get_x() + diff * .5)"
   ]
  },
  {
   "cell_type": "code",
   "execution_count": 7,
   "metadata": {},
   "outputs": [],
   "source": [
    "def change_width2(ax, new_value,recenter=False) :\n",
    "    for patch in ax.patches :\n",
    "        current_width = patch.get_width()\n",
    "        diff = current_width - new_value\n",
    "        patch.set_width(new_value)\n",
    "        if recenter==True:  \n",
    "            patch.set_x(patch.get_x() + diff * 1)"
   ]
  },
  {
   "cell_type": "code",
   "execution_count": 10,
   "metadata": {},
   "outputs": [
    {
     "data": {
      "text/plain": [
       "<matplotlib.legend.Legend at 0x20d7bfaa388>"
      ]
     },
     "execution_count": 10,
     "metadata": {},
     "output_type": "execute_result"
    },
    {
     "data": {
      "image/png": "[encoded data removed]",
      "text/plain": [
       "<Figure size 864x432 with 1 Axes>"
      ]
     },
     "metadata": {
      "needs_background": "light"
     },
     "output_type": "display_data"
    }
   ],
   "source": [
    "#fig, ax = plt.subplots(figsize=(17,7))\n",
    "\n",
    "fig, ax1 = plt.subplots(figsize=(12, 6))\n",
    "#ax2 = ax1.twinx()\n",
    "\n",
    "ax1 = sns.barplot(x = series['Segmen Arus'], y = series['Skenario 1 (%)'], saturation = 0.1, color=\"mediumblue\", label='Skenario 1')\n",
    "change_width(ax1, 0.35)\n",
    "\n",
    "ax2 = sns.barplot(x = series['Segmen Arus'], y = series['Skenario 2 (%)'], saturation = 0.5, color=\"green\", label='Skenario 2')\n",
    "change_width(ax2, 0.35, True)\n",
    "\n",
    "ax3 = sns.barplot(x = series['Segmen Arus'], y = series['Skenario 3 (%)'], saturation = 0.5, color=\"red\", label='Skenario 3')\n",
    "change_width2(ax3, 0.35, True)\n",
    "\n",
    "ax1.set(xlabel = 'Segmen Arus (A)',\n",
    "       ylabel = 'Distribusi Arus (%)',\n",
    "       title = \"Distribusi Arus Selama Berkendara\")\n",
    "\n",
    "ax2.set(xlabel = 'Segmen Arus (A)')\n",
    "\n",
    "ax1.legend()\n",
    "#bins = [series['Skenario 1 (%)'],series['Skenario 2 (%)']]\n",
    "#sns.barplot(series['Arus (A)'],series['Skenario 1 (%)'], saturation = 0.5, palette=\"Blues_d\", ax=ax)\n",
    "#sns.barplot(series['Arus (A)'],series['Skenario 2 (%)'], saturation = 0.7, palette=\"ch:2.5,+.2,dark=.5\", ax=ax)\n",
    "\n",
    "#Possible values are: Accent, Accent_r, Blues, Blues_r, BrBG, BrBG_r, BuGn, BuGn_r, BuPu, BuPu_r, CMRmap, CMRmap_r, Dark2, Dark2_r, GnBu, GnBu_r, Greens, Greens_r, Greys, Greys_r, OrRd, OrRd_r, Oranges, Oranges_r, PRGn, PRGn_r, Paired, Paired_r, Pastel1, Pastel1_r, Pastel2, Pastel2_r, PiYG, PiYG_r, PuBu, PuBuGn, PuBuGn_r, PuBu_r, PuOr, PuOr_r, PuRd, PuRd_r, Purples, Purples_r, RdBu, RdBu_r, RdGy, RdGy_r, RdPu, RdPu_r, RdYlBu, RdYlBu_r, RdYlGn, RdYlGn_r, Reds, Reds_r, Set1, Set1_r, Set2, Set2_r, Set3, Set3_r, Spectral, Spectral_r, Wistia, Wistia_r, YlGn, YlGnBu, YlGnBu_r, YlGn_r, YlOrBr, YlOrBr_r, YlOrRd, YlOrRd_r, afmhot, afmhot_r, autumn, autumn_r, binary, binary_r, bone, bone_r, brg, brg_r, bwr, bwr_r, cividis, cividis_r, cool, cool_r, coolwarm, coolwarm_r, copper, copper_r, cubehelix, cubehelix_r, flag, flag_r, gist_earth, gist_earth_r, gist_gray, gist_gray_r, gist_heat, gist_heat_r, gist_ncar, gist_ncar_r, gist_rainbow, gist_rainbow_r, gist_stern, gist_stern_r, gist_yarg, gist_yarg_r, gnuplot, gnuplot2, gnuplot2_r, gnuplot_r, gray, gray_r, hot, hot_r, hsv, hsv_r, icefire, icefire_r, inferno, inferno_r, jet, jet_r, magma, magma_r, mako, mako_r, nipy_spectral, nipy_spectral_r, ocean, ocean_r, pink, pink_r, plasma, plasma_r, prism, prism_r, rainbow, rainbow_r, rocket, rocket_r, seismic, seismic_r, spring, spring_r, summer, summer_r, tab10, tab10_r, tab20, tab20_r, tab20b, tab20b_r, tab20c, tab20c_r, terrain, terrain_r, twilight, twilight_r, twilight_shifted, twilight_shifted_r, viridis, viridis_r, vlag, vlag_r, winter, winter_r"
   ]
  },
  {
   "cell_type": "code",
   "execution_count": 12,
   "metadata": {},
   "outputs": [
    {
     "data": {
      "image/png": "[encoded data removed]",
      "text/plain": [
       "<Figure size 864x432 with 1 Axes>"
      ]
     },
     "metadata": {
      "needs_background": "light"
     },
     "output_type": "display_data"
    }
   ],
   "source": [
    "plt.subplots(figsize=(12, 6))\n",
    "\n",
    "ax1 = sns.barplot(x = series['Segmen Arus'], y = series['Skenario 1 (%)'], saturation = 0.5, palette=(\"copper\"), label='Skenario 1')\n",
    "#change_width(ax1, 0.35)\n",
    "\n",
    "ax2 = sns.barplot(x = series['Segmen Arus'], y = series['Skenario 2 (%)'], saturation = 0.5, palette=\"PuBuGn_d\", label='Skenario 2')\n",
    "#change_width(ax2, 0.35,True)\n",
    "\n",
    "ax3 = sns.barplot(x = series['Segmen Arus'], y = series['Skenario 3 (%)'], saturation = 0.5, palette=\"PuBuGn_d\", label='Skenario 3')\n",
    "#change_width(ax3, 0.35,True)"
   ]
  },
  {
   "cell_type": "code",
   "execution_count": null,
   "metadata": {},
   "outputs": [],
   "source": []
  },
  {
   "cell_type": "code",
   "execution_count": null,
   "metadata": {},
   "outputs": [],
   "source": []
  }
 ],
 "metadata": {
  "kernelspec": {
   "display_name": "Python 3",
   "language": "python",
   "name": "python3"
  },
  "language_info": {
   "codemirror_mode": {
    "name": "ipython",
    "version": 3
   },
   "file_extension": ".py",
   "mimetype": "text/x-python",
   "name": "python",
   "nbconvert_exporter": "python",
   "pygments_lexer": "ipython3",
   "version": "3.7.4"
  }
 },
 "nbformat": 4,
 "nbformat_minor": 2
}
